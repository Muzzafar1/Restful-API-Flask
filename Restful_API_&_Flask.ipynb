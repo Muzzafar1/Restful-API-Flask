{
  "nbformat": 4,
  "nbformat_minor": 0,
  "metadata": {
    "colab": {
      "provenance": []
    },
    "kernelspec": {
      "name": "python3",
      "display_name": "Python 3"
    },
    "language_info": {
      "name": "python"
    }
  },
  "cells": [
    {
      "cell_type": "markdown",
      "source": [
        "Q 1: What is a RESTful API4 ?\n",
        "- A RESTful API (Representational State Transfer) is a web service that adheres to REST architecture principles. It uses standard HTTP methods like GET, POST, PUT, and DELETE to perform operations on resources identified via URLs. Responses are typically returned in JSON or XML format.\n",
        "\n",
        "Q 2: Explain the concept of API specification ?\n",
        "-\n",
        "An API specification defines how software components interact. It documents endpoints, request/response formats, authentication, error handling, etc. OpenAPI (formerly Swagger) is a common API specification format.\n",
        "\n",
        "Q 3: What is Flask, and why is it popular for building APIs ?\n",
        "- Flask is a lightweight Python web framework. It’s minimalistic, easy to use, has built-in development server and debugger, and supports extensions like Flask-RESTful. Its flexibility and simplicity make it ideal for APIs.\n",
        "\n",
        "Q 4: What is routing in Flask ?\n",
        "- Routing maps URLs to Python functions. Flask uses decorators (@app.route()) to define routes. For example, @app.route('/hello') maps the /hello URL to a function.\n",
        "\n",
        "Q 5: How do you create a simple Flask application ?\n",
        "- from flask import Flask\n",
        "app = Flask(__name__)\n",
        "@app.route('/')\n",
        "def home():\n",
        "    return 'Hello, Flask!'\n",
        "if __name__ == '__main__':\n",
        "    app.run(debug=True)\n",
        "\n",
        "Q 6: What are HTTP methods used in RESTful APIs ?\n",
        "- GET – Retrieve data\n",
        "\n",
        "POST – Create data\n",
        "\n",
        "PUT – Update entire data\n",
        "\n",
        "PATCH – Update partial data\n",
        "\n",
        "DELETE – Delete data\n",
        "\n",
        "Q 7: What is the purpose of the @app.route() decorator in Flask ?\n",
        "- It binds a function to a URL. When a request is made to that URL, Flask executes the associated function.\n",
        "\n",
        "Q 8: What is the difference between GET and POST HTTP methods ?\n",
        "- The main difference between GET and POST HTTP methods lies in how they transmit data and their side effects. GET retrieves data from a server, with parameters appended to the URL, and is generally idempotent (safe to repeat). POST, on the other hand, sends data to the server, often to create or update resources, and is not inherently idempotent.\n",
        "\n",
        "Q 9: How do you handle errors in Flask APIs ?\n",
        "- This can be done by registering error handlers. When Flask catches an exception while handling a request, it is first looked up by code. If no handler is registered for the code, Flask looks up the error by its class hierarchy; the most specific handler is chosen.\n",
        "\n",
        "Q 10:  How do you connect Flask to a SQL database ?\n",
        "- from flask_sqlalchemy import SQLAlchemy\n",
        "app.config['SQLALCHEMY_DATABASE_URI'] = 'sqlite:///mydb.db'\n",
        "db = SQLAlchemy(app)\n",
        "\n",
        "Q 11: What is the role of Flask-SQLAlchemy ?\n",
        "- Flask-SQLAlchemy is a Flask extension that makes using SQLAlchemy with Flask easier, providing you tools and methods to interact with your database in your Flask applications through SQLAlchemy. In this tutorial, you'll build a small student management system that demonstrates how to use the Flask-SQLAlchemy extension.\n",
        "\n",
        "Q 12: What are Flask blueprints, and how are they useful ?\n",
        "- Blueprints allow modular organization of Flask apps. Each blueprint represents a component (e.g., user, admin) with its own routes and logic.\n",
        "\n",
        "Q 13: What is the purpose of Flask's request object ?\n",
        "- The purpose of Flask's request object is to provide access to the incoming HTTP request data sent by the client to the server. It acts as a central repository for all information related to the current request, enabling Flask applications to process and respond to client interactions.\n",
        "\n",
        "Q 14: How do you create a RESTful API endpoint using Flask ?\n",
        "- @app.route('/api/data', methods=['GET'])\n",
        "def get_data():\n",
        "    return {'message': 'Data retrieved'}\n",
        "\n",
        "Q 15: What is the purpose of Flask's jsonify() function ?\n",
        "- Flask's jsonify() function's primary purpose is to convert Python dictionaries or lists into a JSON (JavaScript Object Notation) response, which is commonly used for data exchange in web applications. It simplifies the process by automatically handling the serialization and setting the appropriate Content-Type header to application/json.\n",
        "\n",
        "Q 16: Explain Flask’s url_for() function ?\n",
        "- Flask's url_for() function dynamically generates URLs for specific view functions within a Flask application. This function is crucial for creating robust and maintainable web applications as it prevents hardcoding URLs, which can lead to issues if routes change.\n",
        "\n",
        "Q 17: How does Flask handle static files (CSS, JavaScript, etc.)?\n",
        "-  Flask applications expect static files to reside in a directory named static within the application's root directory.\n",
        "\n",
        "Q 18: What is an API specification, and how does it help in building a Flask API ?\n",
        "- An API specification (e.g., OpenAPI) defines the structure of an API. It helps in documentation, client generation, and validating requests/responses.\n",
        "\n",
        "Q 19: What are HTTP status codes, and why are they important in a Flask API ?\n",
        "- HTTP status codes are three-digit codes that indicate the outcome of an API request. They are included in the API's response to the API client, and they include important information that helps the client know how to proceed.\n",
        "\n",
        "Q 20: How do you handle POST requests in Flask ?\n",
        "- Handling POST requests in Flask involves defining a route that specifically accepts the POST method and then accessing the submitted data within the corresponding view function.\n",
        "\n",
        "Q 21: How would you secure a Flask API ?\n",
        "- Use HTTPS\n",
        "\n",
        "Input validation\n",
        "\n",
        "Authentication (e.g., JWT)\n",
        "\n",
        "Rate limiting\n",
        "\n",
        "CORS configuration\n",
        "\n",
        "Q 22: What is the significance of the Flask-RESTful extension ?\n",
        "- Flask-RESTful is a Flask extension that simplifies the development of REST APIs. It provides a structured way to handle resources and HTTP methods, making it easier to build and organize APIs using Python and Flask. Essentially, it streamlines the process of creating web services that adhere to REST architectural principles.\n",
        "\n",
        "Q 23: What is the role of Flask’s session object ?\n",
        "- In Flask, the session object provides a way to store user-specific data across multiple requests, similar to how cookies work but with added security features. It acts like a dictionary where you can store and retrieve data associated with a particular user's session.\n",
        "\n",
        "\n",
        "\n"
      ],
      "metadata": {
        "id": "4Mb1vyfpMuoI"
      }
    },
    {
      "cell_type": "code",
      "source": [
        "# Q 1: How do you create a basic Flask application ?\n",
        "\n",
        "from flask import Flask\n",
        "app = Flask(__name__)\n",
        "\n",
        "@app.route('/')\n",
        "def home():\n",
        "    return \"Hello, Flask!\"\n",
        "\n",
        "if __name__ == '__main__':\n",
        "    app.run(debug=True)\n"
      ],
      "metadata": {
        "id": "jnkL3SIGYkqx"
      },
      "execution_count": null,
      "outputs": []
    },
    {
      "cell_type": "code",
      "source": [
        "# Q2: How do you serve static files like images or CSS in Flask?\n",
        "\n",
        "<link rel=\"stylesheet\" href=\"{{ url_for('static', filename='style.css') }}\">\n",
        "<img src=\"{{ url_for('static', filename='logo.png') }}\">\n"
      ],
      "metadata": {
        "id": "WROjyT30aOcL"
      },
      "execution_count": null,
      "outputs": []
    },
    {
      "cell_type": "code",
      "source": [
        "# Q 3: How do you define different routes with different HTTP methods in Flask?\n",
        "@app.route('/submit', methods=['GET', 'POST'])\n",
        "def submit():\n",
        "    if request.method == 'POST':\n",
        "        return \"Data submitted\"\n",
        "    return \"Form page\""
      ],
      "metadata": {
        "id": "Eo5JXrcwabla"
      },
      "execution_count": null,
      "outputs": []
    },
    {
      "cell_type": "code",
      "source": [
        "# Q 4: How do you render HTML templates in Flask ?\n",
        "from flask import render_template\n",
        "\n",
        "@app.route('/about')\n",
        "def about():\n",
        "    return render_template('about.html')\n"
      ],
      "metadata": {
        "id": "Y_0xKzBIak4f"
      },
      "execution_count": null,
      "outputs": []
    },
    {
      "cell_type": "code",
      "source": [
        "#Q 5:  How can you generate URLs for routes in Flask using url_for ?\n",
        "@app.route('/profile')\n",
        "def profile():\n",
        "    return \"User Profile\"\n",
        "\n",
        "@app.route('/link')\n",
        "def link():\n",
        "    return redirect(url_for('profile'))\n"
      ],
      "metadata": {
        "id": "a97n72nAavqI"
      },
      "execution_count": null,
      "outputs": []
    },
    {
      "cell_type": "code",
      "source": [
        "# Q 6: How do you handle forms in Flask?\n",
        "@app.route('/form', methods=['GET', 'POST'])\n",
        "def form():\n",
        "    if request.method == 'POST':\n",
        "        name = request.form['name']\n",
        "        return f\"Hello {name}\"\n",
        "    return render_template('form.html')\n"
      ],
      "metadata": {
        "id": "u_p2gbYubD-J"
      },
      "execution_count": null,
      "outputs": []
    },
    {
      "cell_type": "code",
      "source": [
        "# Q 7: How can you validate form data in Flask ?\n",
        "@app.route('/login', methods=['POST'])\n",
        "def login():\n",
        "    username = request.form.get('username')\n",
        "    if not username:\n",
        "        return \"Username is required\", 400\n",
        "    return \"Login successful\"\n"
      ],
      "metadata": {
        "id": "vx4kj276bUGQ"
      },
      "execution_count": null,
      "outputs": []
    },
    {
      "cell_type": "code",
      "source": [
        "# Q 8: How do you manage sessions in Flask?\n",
        "from flask import session\n",
        "app.secret_key = 'mysecret'\n",
        "\n",
        "@app.route('/login')\n",
        "def login():\n",
        "    session['user'] = 'Zaifi'\n",
        "    return \"Logged in\"\n",
        "\n",
        "@app.route('/dashboard')\n",
        "def dashboard():\n",
        "    user = session.get('user')\n",
        "    return f\"Welcome {user}\""
      ],
      "metadata": {
        "id": "XCkz4O1gcEf-"
      },
      "execution_count": null,
      "outputs": []
    },
    {
      "cell_type": "code",
      "source": [
        "# Q 9: How do you redirect to a different route in Flask?\n",
        "from flask import redirect, url_for\n",
        "\n",
        "@app.route('/redirect')\n",
        "def redirect_to_home():\n",
        "    return redirect(url_for('home'))"
      ],
      "metadata": {
        "id": "Zizp1H38cS90"
      },
      "execution_count": null,
      "outputs": []
    },
    {
      "cell_type": "code",
      "source": [
        "# Q 10: How do you handle errors in Flask (e.g., 404) ?\n",
        "@app.errorhandler(404)\n",
        "def not_found(e):\n",
        "    return \"Page not found\", 404\n"
      ],
      "metadata": {
        "id": "hSJ4xKbcfRIF"
      },
      "execution_count": null,
      "outputs": []
    },
    {
      "cell_type": "code",
      "source": [
        "# Q 11:  How do you structure a Flask app using Blueprints ?\n",
        "# In user_routes.py\n",
        "from flask import Blueprint\n",
        "user_bp = Blueprint('user', __name__)\n",
        "\n",
        "@user_bp.route('/profile')\n",
        "def profile():\n",
        "    return \"User Profile\"\n",
        "\n",
        "# In main app\n",
        "from user_routes import user_bp\n",
        "app.register_blueprint(user_bp, url_prefix='/user')"
      ],
      "metadata": {
        "id": "6y0xymT1gmGK"
      },
      "execution_count": null,
      "outputs": []
    },
    {
      "cell_type": "code",
      "source": [
        "# Q 12: How do you define a custom Jinja filter in Flask ?\n",
        "@app.template_filter('reverse')\n",
        "def reverse_filter(s):\n",
        "    return s[::-1]\n",
        "\n",
        "# In template: {{ 'hello'|reverse }} → olleh"
      ],
      "metadata": {
        "id": "W5tpCkjRiN__"
      },
      "execution_count": null,
      "outputs": []
    },
    {
      "cell_type": "code",
      "source": [
        "# Q 13: How can you redirect with query parameters in Flask ?\n",
        "@app.route('/login')\n",
        "def login():\n",
        "    return redirect(url_for('dashboard', user='Zaifi'))\n",
        "\n",
        "@app.route('/dashboard')\n",
        "def dashboard():\n",
        "    user = request.args.get('user')\n",
        "    return f\"Welcome {user}\""
      ],
      "metadata": {
        "id": "SqXpfguAiuiP"
      },
      "execution_count": null,
      "outputs": []
    },
    {
      "cell_type": "code",
      "source": [
        "# Q 14: How do you return JSON responses in Flask?\n",
        "from flask import jsonify\n",
        "\n",
        "@app.route('/api/data')\n",
        "def data():\n",
        "    return jsonify({\"name\": \"Zaifi\", \"course\": \"Flask\"})"
      ],
      "metadata": {
        "id": "C7l5Tww8jdlN"
      },
      "execution_count": null,
      "outputs": []
    },
    {
      "cell_type": "code",
      "source": [
        "# Q 15:  How do you capture URL parameters in Flask?\n",
        "@app.route('/user/<username>')\n",
        "def user_profile(username):\n",
        "    return f\"Profile of {username}\""
      ],
      "metadata": {
        "id": "_L_6k3vAj0VD"
      },
      "execution_count": null,
      "outputs": []
    }
  ]
}